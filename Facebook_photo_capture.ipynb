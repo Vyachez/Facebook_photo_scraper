{
 "cells": [
  {
   "cell_type": "markdown",
   "metadata": {},
   "source": [
    "### Facebook photo parsing/downloader"
   ]
  },
  {
   "cell_type": "markdown",
   "metadata": {},
   "source": [
    "This is very basic web scraper that parses \"https://www.facebook.com/{name.lastname.#}\" pages and downloads thumbnail photo from public page. 'name' and 'lastname' should be specified and # is for order number for that particular name (multiple accounts may be with the same name).   \n",
    "*Example: name.lastname.# may be as follows: john.smith.1*\n",
    "\n",
    "Last line in this notebook sets a loop which iterates from x to x(n) numbers for the name with random frequency and uploads all thumbnail photos from accounts found.\n",
    "You may use this tool for your personal research and learning only. The code provided as is. ANY USAGE of ANY piece of CODE BELOW is AT YOUR OWN RISK."
   ]
  },
  {
   "cell_type": "code",
   "execution_count": null,
   "metadata": {},
   "outputs": [],
   "source": [
    "# importing libs\n",
    "import urllib\n",
    "from urllib.request import urlopen\n",
    "import requests as r\n",
    "import os\n",
    "import sys\n",
    "import time\n",
    "from random import randint\n",
    "from bs4 import BeautifulSoup\n",
    "import time\n",
    "import datetime\n",
    "import traceback"
   ]
  },
  {
   "cell_type": "code",
   "execution_count": null,
   "metadata": {},
   "outputs": [],
   "source": [
    "# create \"/photos\" directory in root where this notebook is placed\n",
    "path = os.getcwd()+\"/photos/\""
   ]
  },
  {
   "cell_type": "code",
   "execution_count": null,
   "metadata": {},
   "outputs": [],
   "source": [
    "# getting photo url\n",
    "def get_photo_source(name):\n",
    "    '''\n",
    "    \n",
    "    '''\n",
    "    p_url = \"https://www.facebook.com/{}\".format(name)\n",
    "    try:\n",
    "        # user agent header\n",
    "        headers = {\"Accept-language\": \"en\",\n",
    "           \"Cookie\": \"foo=bar\",\n",
    "           \"User-Agent\": \"Mozilla/5.0 (iPad; U; CPU OS 3_2 like Mac OS X; en-us) \"+\\\n",
    "                   \"AppleWebKit/531.21.10 (KHTML, like Gecko) Version/4.0.4 Mobile/\"+\\\n",
    "                   \"7B334b Safari/531.21.102011-10-16 20:23:10\"}\n",
    "        # accessing url\n",
    "        fin_page = r.get(p_url, headers=headers)\n",
    "        fin_data = fin_page.text\n",
    "        soup = BeautifulSoup(fin_data, \"html.parser\")\n",
    "    except Exception as ex:\n",
    "        ts = time.time()\n",
    "        errl = \"error getting url\"\n",
    "        logtime = datetime.datetime.fromtimestamp(ts).strftime('%Y-%m-%d %H:%M:%S')\n",
    "        print(\"PAGE_error:\", errl, logtime)\n",
    "        traceback.print_tb(ex.__traceback__)\n",
    "        return None\n",
    "    # getting photo source url\n",
    "    try:\n",
    "        alli = [s for s in soup.find_all('i')]\n",
    "        ph_url = str(alli[3].get(\"style\").split(\"('\")[1].split(\"')\")[0].replace(\"https\\\\3a \",\n",
    "                                                                \"https:\").replace(\"\\\\3d \",\n",
    "                                                                    \"=\").replace(\"\\\\26 \",\"&\"))\n",
    "        print(\"photo url: \", ph_url)\n",
    "    except Exception as ex:\n",
    "        photo = None\n",
    "        ts = time.time()\n",
    "        errl = \"error getting photo url\"\n",
    "        logtime = datetime.datetime.fromtimestamp(ts).strftime('%Y-%m-%d %H:%M:%S')\n",
    "        print(\"PARSING_error:\", errl, logtime)\n",
    "        traceback.print_tb(ex.__traceback__)\n",
    "        return None\n",
    "        \n",
    "    return ph_url"
   ]
  },
  {
   "cell_type": "code",
   "execution_count": null,
   "metadata": {},
   "outputs": [],
   "source": [
    "# using for one time test\n",
    "orig_name = \"name.lastname\" # update here for specific name\n",
    "photo_url = get_photo_source(name)\n",
    "if photo_url != None:\n",
    "    test_name = str(randint(0, 9)) + str(randint(0, 9)) + \\\n",
    "        str(randint(0, 9)) + str(randint(0, 9)) + str(randint(0, 9))\n",
    "    # uploading\n",
    "    try:          \n",
    "        urllib.request.urlretrieve(photo_url, path+name+\"_\"+test_name+'.jpg')\n",
    "    except Exception as e:\n",
    "        print (\"Error while uploading!\", e)"
   ]
  },
  {
   "cell_type": "code",
   "execution_count": null,
   "metadata": {},
   "outputs": [],
   "source": [
    "# iterating through ids for the same name\n",
    "for x in range(1, 100): # will search for first 100 names\n",
    "    name = orig_name+\".\"+str(x)\n",
    "    photo_url = get_photo_source(name)\n",
    "    if photo_url != None:\n",
    "        test_name = str(randint(0, 9)) + str(randint(0, 9)) + \\\n",
    "            str(randint(0, 9)) + str(randint(0, 9)) + str(randint(0, 9))\n",
    "        # uploading\n",
    "        try:          \n",
    "            urllib.request.urlretrieve(photo_url, path+name+\"_\"+test_name+'.jpg')\n",
    "        except Exception as e:\n",
    "            print (\"Error while uploading!\", e)\n",
    "        # pause\n",
    "    time.sleep(randint(randint(1,5), randint(7,30)))"
   ]
  },
  {
   "cell_type": "code",
   "execution_count": null,
   "metadata": {},
   "outputs": [],
   "source": []
  }
 ],
 "metadata": {
  "kernelspec": {
   "display_name": "Python 3",
   "language": "python",
   "name": "python3"
  },
  "language_info": {
   "codemirror_mode": {
    "name": "ipython",
    "version": 3
   },
   "file_extension": ".py",
   "mimetype": "text/x-python",
   "name": "python",
   "nbconvert_exporter": "python",
   "pygments_lexer": "ipython3",
   "version": "3.7.6"
  }
 },
 "nbformat": 4,
 "nbformat_minor": 4
}
